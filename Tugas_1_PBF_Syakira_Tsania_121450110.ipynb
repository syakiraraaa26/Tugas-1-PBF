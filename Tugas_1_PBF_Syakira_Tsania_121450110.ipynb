{
  "nbformat": 4,
  "nbformat_minor": 0,
  "metadata": {
    "colab": {
      "provenance": []
    },
    "kernelspec": {
      "name": "python3",
      "display_name": "Python 3"
    },
    "language_info": {
      "name": "python"
    }
  },
  "cells": [
    {
      "cell_type": "markdown",
      "source": [
        "**TUGAS 1 PBF**\n",
        "\n",
        "-----------------------------------------------------------------------------------------------------------------------------------------------\n",
        "\n",
        "NAMA : Syakira Tsania Muthmainnah\n",
        "\n",
        "NIM : 121450110\n",
        "\n",
        "KELAS : RC\n",
        "\n",
        "-----------------------------------------------------------------------------------------------------------------------------------------------\n"
      ],
      "metadata": {
        "id": "O2oPOgClT1MC"
      }
    },
    {
      "cell_type": "markdown",
      "source": [
        "# **1. Jelaskan menggunakan tabel mengenai kelebihan dan kekurangan paradigma procedural dibandingkan dengan object oriented!**\n"
      ],
      "metadata": {
        "id": "V7xXoypSpyx-"
      }
    },
    {
      "cell_type": "code",
      "source": [
        "import pandas as pd\n",
        "df = pd.DataFrame({\n",
        "    'OOP': ['Cocok untuk project atau aplikasi yang kompleks\t','OOP memiliki access modifiers seperti public, protected, dan private','objek bersifat aktif','program dibagi pada objek'],\n",
        "    'Paradigma Procedural': ['Cocok untuk project atau aplikasi yang sederhana','Prosedural tidak memiliki access modifiers seperti pada OOP','data bersifat pasif','program besar dibagi ke unit kecil yaitu fungsi'],\n",
        "    })\n",
        "df"
      ],
      "metadata": {
        "colab": {
          "base_uri": "https://localhost:8080/",
          "height": 175
        },
        "id": "PE4wG0zw0rLt",
        "outputId": "970370d5-9323-4799-ff15-ed64cb7a220c"
      },
      "execution_count": null,
      "outputs": [
        {
          "output_type": "execute_result",
          "data": {
            "text/plain": [
              "                                                 OOP  \\\n",
              "0  Cocok untuk project atau aplikasi yang kompleks\\t   \n",
              "1  OOP memiliki access modifiers seperti public, ...   \n",
              "2                               objek bersifat aktif   \n",
              "3                          program dibagi pada objek   \n",
              "\n",
              "                                Paradigma Procedural  \n",
              "0   Cocok untuk project atau aplikasi yang sederhana  \n",
              "1  Prosedural tidak memiliki access modifiers sep...  \n",
              "2                                data bersifat pasif  \n",
              "3    program besar dibagi ke unit kecil yaitu fungsi  "
            ],
            "text/html": [
              "\n",
              "  <div id=\"df-d8e5fb20-edae-4e0c-8bd1-3430ca0b36cb\">\n",
              "    <div class=\"colab-df-container\">\n",
              "      <div>\n",
              "<style scoped>\n",
              "    .dataframe tbody tr th:only-of-type {\n",
              "        vertical-align: middle;\n",
              "    }\n",
              "\n",
              "    .dataframe tbody tr th {\n",
              "        vertical-align: top;\n",
              "    }\n",
              "\n",
              "    .dataframe thead th {\n",
              "        text-align: right;\n",
              "    }\n",
              "</style>\n",
              "<table border=\"1\" class=\"dataframe\">\n",
              "  <thead>\n",
              "    <tr style=\"text-align: right;\">\n",
              "      <th></th>\n",
              "      <th>OOP</th>\n",
              "      <th>Paradigma Procedural</th>\n",
              "    </tr>\n",
              "  </thead>\n",
              "  <tbody>\n",
              "    <tr>\n",
              "      <th>0</th>\n",
              "      <td>Cocok untuk project atau aplikasi yang kompleks\\t</td>\n",
              "      <td>Cocok untuk project atau aplikasi yang sederhana</td>\n",
              "    </tr>\n",
              "    <tr>\n",
              "      <th>1</th>\n",
              "      <td>OOP memiliki access modifiers seperti public, ...</td>\n",
              "      <td>Prosedural tidak memiliki access modifiers sep...</td>\n",
              "    </tr>\n",
              "    <tr>\n",
              "      <th>2</th>\n",
              "      <td>objek bersifat aktif</td>\n",
              "      <td>data bersifat pasif</td>\n",
              "    </tr>\n",
              "    <tr>\n",
              "      <th>3</th>\n",
              "      <td>program dibagi pada objek</td>\n",
              "      <td>program besar dibagi ke unit kecil yaitu fungsi</td>\n",
              "    </tr>\n",
              "  </tbody>\n",
              "</table>\n",
              "</div>\n",
              "      <button class=\"colab-df-convert\" onclick=\"convertToInteractive('df-d8e5fb20-edae-4e0c-8bd1-3430ca0b36cb')\"\n",
              "              title=\"Convert this dataframe to an interactive table.\"\n",
              "              style=\"display:none;\">\n",
              "        \n",
              "  <svg xmlns=\"http://www.w3.org/2000/svg\" height=\"24px\"viewBox=\"0 0 24 24\"\n",
              "       width=\"24px\">\n",
              "    <path d=\"M0 0h24v24H0V0z\" fill=\"none\"/>\n",
              "    <path d=\"M18.56 5.44l.94 2.06.94-2.06 2.06-.94-2.06-.94-.94-2.06-.94 2.06-2.06.94zm-11 1L8.5 8.5l.94-2.06 2.06-.94-2.06-.94L8.5 2.5l-.94 2.06-2.06.94zm10 10l.94 2.06.94-2.06 2.06-.94-2.06-.94-.94-2.06-.94 2.06-2.06.94z\"/><path d=\"M17.41 7.96l-1.37-1.37c-.4-.4-.92-.59-1.43-.59-.52 0-1.04.2-1.43.59L10.3 9.45l-7.72 7.72c-.78.78-.78 2.05 0 2.83L4 21.41c.39.39.9.59 1.41.59.51 0 1.02-.2 1.41-.59l7.78-7.78 2.81-2.81c.8-.78.8-2.07 0-2.86zM5.41 20L4 18.59l7.72-7.72 1.47 1.35L5.41 20z\"/>\n",
              "  </svg>\n",
              "      </button>\n",
              "      \n",
              "  <style>\n",
              "    .colab-df-container {\n",
              "      display:flex;\n",
              "      flex-wrap:wrap;\n",
              "      gap: 12px;\n",
              "    }\n",
              "\n",
              "    .colab-df-convert {\n",
              "      background-color: #E8F0FE;\n",
              "      border: none;\n",
              "      border-radius: 50%;\n",
              "      cursor: pointer;\n",
              "      display: none;\n",
              "      fill: #1967D2;\n",
              "      height: 32px;\n",
              "      padding: 0 0 0 0;\n",
              "      width: 32px;\n",
              "    }\n",
              "\n",
              "    .colab-df-convert:hover {\n",
              "      background-color: #E2EBFA;\n",
              "      box-shadow: 0px 1px 2px rgba(60, 64, 67, 0.3), 0px 1px 3px 1px rgba(60, 64, 67, 0.15);\n",
              "      fill: #174EA6;\n",
              "    }\n",
              "\n",
              "    [theme=dark] .colab-df-convert {\n",
              "      background-color: #3B4455;\n",
              "      fill: #D2E3FC;\n",
              "    }\n",
              "\n",
              "    [theme=dark] .colab-df-convert:hover {\n",
              "      background-color: #434B5C;\n",
              "      box-shadow: 0px 1px 3px 1px rgba(0, 0, 0, 0.15);\n",
              "      filter: drop-shadow(0px 1px 2px rgba(0, 0, 0, 0.3));\n",
              "      fill: #FFFFFF;\n",
              "    }\n",
              "  </style>\n",
              "\n",
              "      <script>\n",
              "        const buttonEl =\n",
              "          document.querySelector('#df-d8e5fb20-edae-4e0c-8bd1-3430ca0b36cb button.colab-df-convert');\n",
              "        buttonEl.style.display =\n",
              "          google.colab.kernel.accessAllowed ? 'block' : 'none';\n",
              "\n",
              "        async function convertToInteractive(key) {\n",
              "          const element = document.querySelector('#df-d8e5fb20-edae-4e0c-8bd1-3430ca0b36cb');\n",
              "          const dataTable =\n",
              "            await google.colab.kernel.invokeFunction('convertToInteractive',\n",
              "                                                     [key], {});\n",
              "          if (!dataTable) return;\n",
              "\n",
              "          const docLinkHtml = 'Like what you see? Visit the ' +\n",
              "            '<a target=\"_blank\" href=https://colab.research.google.com/notebooks/data_table.ipynb>data table notebook</a>'\n",
              "            + ' to learn more about interactive tables.';\n",
              "          element.innerHTML = '';\n",
              "          dataTable['output_type'] = 'display_data';\n",
              "          await google.colab.output.renderOutput(dataTable, element);\n",
              "          const docLink = document.createElement('div');\n",
              "          docLink.innerHTML = docLinkHtml;\n",
              "          element.appendChild(docLink);\n",
              "        }\n",
              "      </script>\n",
              "    </div>\n",
              "  </div>\n",
              "  "
            ]
          },
          "metadata": {},
          "execution_count": 15
        }
      ]
    },
    {
      "cell_type": "markdown",
      "source": [
        "# **2. Jelaskan menggunakan tabel mengenai kelebihan dan kekurangan paradigma object oriented dibandingkan dengan functional**"
      ],
      "metadata": {
        "id": "ME6OKkp10g4c"
      }
    },
    {
      "cell_type": "code",
      "execution_count": null,
      "metadata": {
        "id": "CgIAixBBpxc6",
        "colab": {
          "base_uri": "https://localhost:8080/",
          "height": 143
        },
        "outputId": "88446964-8d7b-4d58-8d47-01c47ac9b7b9"
      },
      "outputs": [
        {
          "output_type": "execute_result",
          "data": {
            "text/plain": [
              "                                                 OOP  \\\n",
              "0  Dapat reusable, dengan memanfaatkan class dan ...   \n",
              "1                                 semua adalah objek   \n",
              "2                                       Polymorphism   \n",
              "\n",
              "                              Funcitonal Programming  \n",
              "0                    Function menjadi lebih reusable  \n",
              "1  cara meneruskan data dari satu fungsi ke fungs...  \n",
              "2  fungsi diperlaukan bagai data dan dapat diguna...  "
            ],
            "text/html": [
              "\n",
              "  <div id=\"df-4b448c71-2d82-4a95-b677-33bbd4b08289\">\n",
              "    <div class=\"colab-df-container\">\n",
              "      <div>\n",
              "<style scoped>\n",
              "    .dataframe tbody tr th:only-of-type {\n",
              "        vertical-align: middle;\n",
              "    }\n",
              "\n",
              "    .dataframe tbody tr th {\n",
              "        vertical-align: top;\n",
              "    }\n",
              "\n",
              "    .dataframe thead th {\n",
              "        text-align: right;\n",
              "    }\n",
              "</style>\n",
              "<table border=\"1\" class=\"dataframe\">\n",
              "  <thead>\n",
              "    <tr style=\"text-align: right;\">\n",
              "      <th></th>\n",
              "      <th>OOP</th>\n",
              "      <th>Funcitonal Programming</th>\n",
              "    </tr>\n",
              "  </thead>\n",
              "  <tbody>\n",
              "    <tr>\n",
              "      <th>0</th>\n",
              "      <td>Dapat reusable, dengan memanfaatkan class dan ...</td>\n",
              "      <td>Function menjadi lebih reusable</td>\n",
              "    </tr>\n",
              "    <tr>\n",
              "      <th>1</th>\n",
              "      <td>semua adalah objek</td>\n",
              "      <td>cara meneruskan data dari satu fungsi ke fungs...</td>\n",
              "    </tr>\n",
              "    <tr>\n",
              "      <th>2</th>\n",
              "      <td>Polymorphism</td>\n",
              "      <td>fungsi diperlaukan bagai data dan dapat diguna...</td>\n",
              "    </tr>\n",
              "  </tbody>\n",
              "</table>\n",
              "</div>\n",
              "      <button class=\"colab-df-convert\" onclick=\"convertToInteractive('df-4b448c71-2d82-4a95-b677-33bbd4b08289')\"\n",
              "              title=\"Convert this dataframe to an interactive table.\"\n",
              "              style=\"display:none;\">\n",
              "        \n",
              "  <svg xmlns=\"http://www.w3.org/2000/svg\" height=\"24px\"viewBox=\"0 0 24 24\"\n",
              "       width=\"24px\">\n",
              "    <path d=\"M0 0h24v24H0V0z\" fill=\"none\"/>\n",
              "    <path d=\"M18.56 5.44l.94 2.06.94-2.06 2.06-.94-2.06-.94-.94-2.06-.94 2.06-2.06.94zm-11 1L8.5 8.5l.94-2.06 2.06-.94-2.06-.94L8.5 2.5l-.94 2.06-2.06.94zm10 10l.94 2.06.94-2.06 2.06-.94-2.06-.94-.94-2.06-.94 2.06-2.06.94z\"/><path d=\"M17.41 7.96l-1.37-1.37c-.4-.4-.92-.59-1.43-.59-.52 0-1.04.2-1.43.59L10.3 9.45l-7.72 7.72c-.78.78-.78 2.05 0 2.83L4 21.41c.39.39.9.59 1.41.59.51 0 1.02-.2 1.41-.59l7.78-7.78 2.81-2.81c.8-.78.8-2.07 0-2.86zM5.41 20L4 18.59l7.72-7.72 1.47 1.35L5.41 20z\"/>\n",
              "  </svg>\n",
              "      </button>\n",
              "      \n",
              "  <style>\n",
              "    .colab-df-container {\n",
              "      display:flex;\n",
              "      flex-wrap:wrap;\n",
              "      gap: 12px;\n",
              "    }\n",
              "\n",
              "    .colab-df-convert {\n",
              "      background-color: #E8F0FE;\n",
              "      border: none;\n",
              "      border-radius: 50%;\n",
              "      cursor: pointer;\n",
              "      display: none;\n",
              "      fill: #1967D2;\n",
              "      height: 32px;\n",
              "      padding: 0 0 0 0;\n",
              "      width: 32px;\n",
              "    }\n",
              "\n",
              "    .colab-df-convert:hover {\n",
              "      background-color: #E2EBFA;\n",
              "      box-shadow: 0px 1px 2px rgba(60, 64, 67, 0.3), 0px 1px 3px 1px rgba(60, 64, 67, 0.15);\n",
              "      fill: #174EA6;\n",
              "    }\n",
              "\n",
              "    [theme=dark] .colab-df-convert {\n",
              "      background-color: #3B4455;\n",
              "      fill: #D2E3FC;\n",
              "    }\n",
              "\n",
              "    [theme=dark] .colab-df-convert:hover {\n",
              "      background-color: #434B5C;\n",
              "      box-shadow: 0px 1px 3px 1px rgba(0, 0, 0, 0.15);\n",
              "      filter: drop-shadow(0px 1px 2px rgba(0, 0, 0, 0.3));\n",
              "      fill: #FFFFFF;\n",
              "    }\n",
              "  </style>\n",
              "\n",
              "      <script>\n",
              "        const buttonEl =\n",
              "          document.querySelector('#df-4b448c71-2d82-4a95-b677-33bbd4b08289 button.colab-df-convert');\n",
              "        buttonEl.style.display =\n",
              "          google.colab.kernel.accessAllowed ? 'block' : 'none';\n",
              "\n",
              "        async function convertToInteractive(key) {\n",
              "          const element = document.querySelector('#df-4b448c71-2d82-4a95-b677-33bbd4b08289');\n",
              "          const dataTable =\n",
              "            await google.colab.kernel.invokeFunction('convertToInteractive',\n",
              "                                                     [key], {});\n",
              "          if (!dataTable) return;\n",
              "\n",
              "          const docLinkHtml = 'Like what you see? Visit the ' +\n",
              "            '<a target=\"_blank\" href=https://colab.research.google.com/notebooks/data_table.ipynb>data table notebook</a>'\n",
              "            + ' to learn more about interactive tables.';\n",
              "          element.innerHTML = '';\n",
              "          dataTable['output_type'] = 'display_data';\n",
              "          await google.colab.output.renderOutput(dataTable, element);\n",
              "          const docLink = document.createElement('div');\n",
              "          docLink.innerHTML = docLinkHtml;\n",
              "          element.appendChild(docLink);\n",
              "        }\n",
              "      </script>\n",
              "    </div>\n",
              "  </div>\n",
              "  "
            ]
          },
          "metadata": {},
          "execution_count": 16
        }
      ],
      "source": [
        "import pandas as pd\n",
        "df = pd.DataFrame({\n",
        "    'OOP': ['Dapat reusable, dengan memanfaatkan class dan method yang telah dibuat','semua adalah objek','Polymorphism'],\n",
        "    'Funcitonal Programming': ['Function menjadi lebih reusable','cara meneruskan data dari satu fungsi ke fungsi lainnya','fungsi diperlaukan bagai data dan dapat digunakan untuk parameter '],\n",
        "    })\n",
        "df"
      ]
    },
    {
      "cell_type": "markdown",
      "source": [
        "# **3. Jelaskan menggunakan tabel mengenai kelebihan dan kekurangan paradigma procedural dibandingkan dengan functional**"
      ],
      "metadata": {
        "id": "xXQkxPLqDpap"
      }
    },
    {
      "cell_type": "code",
      "source": [
        "import pandas as pd\n",
        "df = pd.DataFrame({\n",
        "    'Paradigma Procedural': ['pemrograman imperatif berdasarkan konsep pemanggilan prosedur.','lebih mudah dipahami ',' debugging lebih susah'],\n",
        "    'Funcitonal Programming': ['Paradigma yang memperlakukan komputasi sebagai evaluasi fungsi matematika','lebih sulit dipahami ','debugging lebih mudah '],\n",
        "    })\n",
        "df"
      ],
      "metadata": {
        "id": "-OnD4XvkDxjt",
        "colab": {
          "base_uri": "https://localhost:8080/",
          "height": 143
        },
        "outputId": "27aeb6bb-15f2-4684-c5a9-8170a605d0b5"
      },
      "execution_count": null,
      "outputs": [
        {
          "output_type": "execute_result",
          "data": {
            "text/plain": [
              "                                Paradigma Procedural  \\\n",
              "0  pemrograman imperatif berdasarkan konsep peman...   \n",
              "1                              lebih mudah dipahami    \n",
              "2                              debugging lebih susah   \n",
              "\n",
              "                              Funcitonal Programming  \n",
              "0  Paradigma yang memperlakukan komputasi sebagai...  \n",
              "1                              lebih sulit dipahami   \n",
              "2                             debugging lebih mudah   "
            ],
            "text/html": [
              "\n",
              "  <div id=\"df-9148fdbb-60c2-44d6-bdeb-2dfb749b07a6\">\n",
              "    <div class=\"colab-df-container\">\n",
              "      <div>\n",
              "<style scoped>\n",
              "    .dataframe tbody tr th:only-of-type {\n",
              "        vertical-align: middle;\n",
              "    }\n",
              "\n",
              "    .dataframe tbody tr th {\n",
              "        vertical-align: top;\n",
              "    }\n",
              "\n",
              "    .dataframe thead th {\n",
              "        text-align: right;\n",
              "    }\n",
              "</style>\n",
              "<table border=\"1\" class=\"dataframe\">\n",
              "  <thead>\n",
              "    <tr style=\"text-align: right;\">\n",
              "      <th></th>\n",
              "      <th>Paradigma Procedural</th>\n",
              "      <th>Funcitonal Programming</th>\n",
              "    </tr>\n",
              "  </thead>\n",
              "  <tbody>\n",
              "    <tr>\n",
              "      <th>0</th>\n",
              "      <td>pemrograman imperatif berdasarkan konsep peman...</td>\n",
              "      <td>Paradigma yang memperlakukan komputasi sebagai...</td>\n",
              "    </tr>\n",
              "    <tr>\n",
              "      <th>1</th>\n",
              "      <td>lebih mudah dipahami</td>\n",
              "      <td>lebih sulit dipahami</td>\n",
              "    </tr>\n",
              "    <tr>\n",
              "      <th>2</th>\n",
              "      <td>debugging lebih susah</td>\n",
              "      <td>debugging lebih mudah</td>\n",
              "    </tr>\n",
              "  </tbody>\n",
              "</table>\n",
              "</div>\n",
              "      <button class=\"colab-df-convert\" onclick=\"convertToInteractive('df-9148fdbb-60c2-44d6-bdeb-2dfb749b07a6')\"\n",
              "              title=\"Convert this dataframe to an interactive table.\"\n",
              "              style=\"display:none;\">\n",
              "        \n",
              "  <svg xmlns=\"http://www.w3.org/2000/svg\" height=\"24px\"viewBox=\"0 0 24 24\"\n",
              "       width=\"24px\">\n",
              "    <path d=\"M0 0h24v24H0V0z\" fill=\"none\"/>\n",
              "    <path d=\"M18.56 5.44l.94 2.06.94-2.06 2.06-.94-2.06-.94-.94-2.06-.94 2.06-2.06.94zm-11 1L8.5 8.5l.94-2.06 2.06-.94-2.06-.94L8.5 2.5l-.94 2.06-2.06.94zm10 10l.94 2.06.94-2.06 2.06-.94-2.06-.94-.94-2.06-.94 2.06-2.06.94z\"/><path d=\"M17.41 7.96l-1.37-1.37c-.4-.4-.92-.59-1.43-.59-.52 0-1.04.2-1.43.59L10.3 9.45l-7.72 7.72c-.78.78-.78 2.05 0 2.83L4 21.41c.39.39.9.59 1.41.59.51 0 1.02-.2 1.41-.59l7.78-7.78 2.81-2.81c.8-.78.8-2.07 0-2.86zM5.41 20L4 18.59l7.72-7.72 1.47 1.35L5.41 20z\"/>\n",
              "  </svg>\n",
              "      </button>\n",
              "      \n",
              "  <style>\n",
              "    .colab-df-container {\n",
              "      display:flex;\n",
              "      flex-wrap:wrap;\n",
              "      gap: 12px;\n",
              "    }\n",
              "\n",
              "    .colab-df-convert {\n",
              "      background-color: #E8F0FE;\n",
              "      border: none;\n",
              "      border-radius: 50%;\n",
              "      cursor: pointer;\n",
              "      display: none;\n",
              "      fill: #1967D2;\n",
              "      height: 32px;\n",
              "      padding: 0 0 0 0;\n",
              "      width: 32px;\n",
              "    }\n",
              "\n",
              "    .colab-df-convert:hover {\n",
              "      background-color: #E2EBFA;\n",
              "      box-shadow: 0px 1px 2px rgba(60, 64, 67, 0.3), 0px 1px 3px 1px rgba(60, 64, 67, 0.15);\n",
              "      fill: #174EA6;\n",
              "    }\n",
              "\n",
              "    [theme=dark] .colab-df-convert {\n",
              "      background-color: #3B4455;\n",
              "      fill: #D2E3FC;\n",
              "    }\n",
              "\n",
              "    [theme=dark] .colab-df-convert:hover {\n",
              "      background-color: #434B5C;\n",
              "      box-shadow: 0px 1px 3px 1px rgba(0, 0, 0, 0.15);\n",
              "      filter: drop-shadow(0px 1px 2px rgba(0, 0, 0, 0.3));\n",
              "      fill: #FFFFFF;\n",
              "    }\n",
              "  </style>\n",
              "\n",
              "      <script>\n",
              "        const buttonEl =\n",
              "          document.querySelector('#df-9148fdbb-60c2-44d6-bdeb-2dfb749b07a6 button.colab-df-convert');\n",
              "        buttonEl.style.display =\n",
              "          google.colab.kernel.accessAllowed ? 'block' : 'none';\n",
              "\n",
              "        async function convertToInteractive(key) {\n",
              "          const element = document.querySelector('#df-9148fdbb-60c2-44d6-bdeb-2dfb749b07a6');\n",
              "          const dataTable =\n",
              "            await google.colab.kernel.invokeFunction('convertToInteractive',\n",
              "                                                     [key], {});\n",
              "          if (!dataTable) return;\n",
              "\n",
              "          const docLinkHtml = 'Like what you see? Visit the ' +\n",
              "            '<a target=\"_blank\" href=https://colab.research.google.com/notebooks/data_table.ipynb>data table notebook</a>'\n",
              "            + ' to learn more about interactive tables.';\n",
              "          element.innerHTML = '';\n",
              "          dataTable['output_type'] = 'display_data';\n",
              "          await google.colab.output.renderOutput(dataTable, element);\n",
              "          const docLink = document.createElement('div');\n",
              "          docLink.innerHTML = docLinkHtml;\n",
              "          element.appendChild(docLink);\n",
              "        }\n",
              "      </script>\n",
              "    </div>\n",
              "  </div>\n",
              "  "
            ]
          },
          "metadata": {},
          "execution_count": 1
        }
      ]
    },
    {
      "cell_type": "markdown",
      "source": [
        "# **4.Apa yang dimaksud dengan pure functional programming language?**"
      ],
      "metadata": {
        "id": "tAjO9ZfYQMK9"
      }
    },
    {
      "cell_type": "markdown",
      "source": [
        "Pure Functional Programming Languange adalah sebuah paradigma pemrograman, di mana dalam mengkonstruksi program, anda membuat solusi dengan membuat definisi dan spesifikasi fungsi (nama, pemetaan domain ke range dan transformasinya ), kemudian mengimplementasi fungsi tsb dengan bahasa fungsional.\n",
        "\n"
      ],
      "metadata": {
        "id": "pp-M_IqTQffk"
      }
    },
    {
      "cell_type": "markdown",
      "source": [
        "# **5. Dari bahasa pemrograman FP di slide sebelumnya ( slide 14 ) , manakah yang termasuk pure functional programming language**"
      ],
      "metadata": {
        "id": "xaDv9i0uTAi3"
      }
    },
    {
      "cell_type": "markdown",
      "source": [
        "Yang termasuk pure functional programming languange yaitu Haskell, Standard ML, dan Lisp."
      ],
      "metadata": {
        "id": "HYnIR0BfTENm"
      }
    },
    {
      "cell_type": "markdown",
      "source": [
        "# **6. Membuat program Simple Password encryption, dengan ketentuan :**\n",
        "1. Input password bertipe string dengan batasan panjang password \n",
        "100 karakter\n",
        "\n",
        "2. Setiap karakter dari string tersebut diubah menjadi ASCII value\n",
        "\n",
        "3. Kemudian setiap ASCII value tersebut dikembangkan menjadi 3 \n",
        "value dengan dilakukan operasi berikut:\n",
        "\n",
        "  1. Value pertama dibagi dengan integer 26 kemudian \n",
        "dibulatkan dan dijumlahkan dengan 80 kemudian diubah \n",
        "kembali menjadi karakter\n",
        "  2. Value kedua dihitung sisa bagi dengan 26 kemudian \n",
        "dijumlahkan dengan 80 kemudian diubah kembali menjadi \n",
        "karakter\n",
        "  3. Value ketiga adalah karakter ‘+’ jika value pertama lebih \n",
        "besar dari value kedua, atau value ketiga adalah karakter ‘-’ \n",
        "jika value pertama tidak lebih besar dari value kedua\n",
        "  4. Deretkan value pertama, kedua dan ketiga untuk setiap karakter \n",
        "dalam password tersebut sehingga didapatkan password dalam \n",
        "bentuk baru\n",
        "\n"
      ],
      "metadata": {
        "id": "IVXf3wyyTj8N"
      }
    },
    {
      "cell_type": "markdown",
      "source": [
        "3.a. Bantulah user tersebut dengan membuatkan sebuah program yang secara otomatis\n",
        "mengubah password yang di input menjadi terenkripsi sesuai aturan tersebut!"
      ],
      "metadata": {
        "id": "1onpfTlkVxvD"
      }
    },
    {
      "cell_type": "code",
      "source": [
        "from mmap import PROT_WRITE\n",
        "# password ter-enkripsi\n",
        "def pwe(pw):\n",
        "  # karakter lebih dari 100\n",
        "  if len(pw) > 100 or len(pw) == 0:\n",
        "    print(\"masukkan karakter dari 1-100 karakter\")\n",
        "  else:\n",
        "    ascii = [str(ord(i)) for i in pw]\n",
        "    enkripsi = ''.join(chr((int(j)//26)+80)+chr((int(j)%26)+80)+('+' if (int(j)//26)+80 > (int(j)%26)+80 else '-') for j in ascii)\n",
        "    # hasil password yang ter-enkripsi\n",
        "    print(\"password yang terenkripsi yaitu: \", enkripsi)\n",
        "\n",
        "# pasword ter-deskripsi\n",
        "def pd(pw):\n",
        "  split_ps = [(pw[k:k+3]) for k in range(0, len(pw), 3)]\n",
        "  deskripsi = ''.join(chr(((ord(list(z)[0])-80)*26)+(ord(list(z)[1])-80)) for z in split_ps)\n",
        "  # hasil password yang ter-deskripsi\n",
        "  print(\"Paswword yang ter-deskripsi yaitu: \", deskripsi)\n"
      ],
      "metadata": {
        "id": "jpKTH1UMTkcP"
      },
      "execution_count": 33,
      "outputs": []
    },
    {
      "cell_type": "markdown",
      "source": [
        "3.b. Apa output yang dihasilkan dari program tersebut jika input password adalah\n",
        "‘anakanakcerdas2020’ ?"
      ],
      "metadata": {
        "id": "nG8T4qpSV1Kp"
      }
    },
    {
      "cell_type": "code",
      "source": [
        "pw = input(\"masukkan password sebenarnya: \")\n",
        "pwe(pw)"
      ],
      "metadata": {
        "id": "3OS_MEzvV5GS",
        "colab": {
          "base_uri": "https://localhost:8080/"
        },
        "outputId": "322638f1-7a42-43c8-d6a8-21117de27c86"
      },
      "execution_count": 34,
      "outputs": [
        {
          "output_type": "stream",
          "name": "stdout",
          "text": [
            "masukkan password sebenarnya: anakanakcerdas2020\n",
            "password yang terenkripsi yaitu:  Sc-TV-Sc-TS+Sc-TV-Sc-TS+Se-Sg-TZ-Sf-Sc-T[-Qh-Qf-Qh-Qf-\n"
          ]
        }
      ]
    },
    {
      "cell_type": "markdown",
      "source": [
        "3.c. (Bonus) User tersebut lupa password asli yang dia inputkan ke dalam program\n",
        "tersebut, password setelah dienkripsi adalah\n",
        "‘Sc-TV-Sc-TS+T[-Sc-TQ+TV-T[-Sf-Sc-T\\-Sc-Qh-Qf-Qh-Qf-TS+Sg-Se-Sg-’. Bantulah user\n",
        "tersebut mendapatkan password asli nya!"
      ],
      "metadata": {
        "id": "SRdoUqxoV6dV"
      }
    },
    {
      "cell_type": "code",
      "source": [
        "pe = input(\"Masukkan password yang ter-enkripsi: \")\n",
        "pd(pe)"
      ],
      "metadata": {
        "id": "-9GC-9qwV8nl",
        "colab": {
          "base_uri": "https://localhost:8080/"
        },
        "outputId": "9cedcafc-174b-48e3-92bf-5cdf5c383ac7"
      },
      "execution_count": 35,
      "outputs": [
        {
          "output_type": "stream",
          "name": "stdout",
          "text": [
            "Masukkan password yang ter-enkripsi: Sc-TV-Sc-TS+T[-Sc-TQ+TV-T[-Sf-Sc-T\\-Sc-Qh-Qf-Qh-Qf-TS+Sg-Se-Sg-\n",
            "Paswword yang ter-deskripsi yaitu:  anaksainsdata2020kece\n"
          ]
        }
      ]
    }
  ]
}